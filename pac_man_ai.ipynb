{
  "nbformat": 4,
  "nbformat_minor": 0,
  "metadata": {
    "colab": {
      "provenance": [],
      "authorship_tag": "ABX9TyN0c6ft6ldBdM3ub7vGpBav"
    },
    "kernelspec": {
      "name": "python3",
      "display_name": "Python 3"
    },
    "language_info": {
      "name": "python"
    }
  },
  "cells": [
    {
      "cell_type": "code",
      "execution_count": null,
      "metadata": {
        "id": "Y4N3caYXeopM"
      },
      "outputs": [],
      "source": [
        "#!/usr/bin/env python\n",
        "# coding: utf-8"
      ]
    },
    {
      "cell_type": "code",
      "source": [
        "import gym\n",
        "import math\n",
        "import random\n",
        "import numpy as np\n",
        "from gym import wrappers\n",
        "from IPython import display\n",
        "from collections import namedtuple, deque\n",
        "from itertools import count\n",
        "import time\n",
        "\n",
        "import torch\n",
        "import torch.nn as nn\n",
        "import torch.optim as optim\n",
        "import torch.nn.functional as F\n",
        "import torchvision.transforms as T\n",
        "\n",
        "import matplotlib\n",
        "import matplotlib.pyplot as plt\n",
        "get_ipython().run_line_magic('matplotlib', 'inline')\n",
        "\n",
        "from pyvirtualdisplay import Display\n",
        "\n",
        "virtual_display = Display(visible=0, size=(1400, 900))\n",
        "virtual_display.start()\n",
        "\n",
        "\n",
        "device = torch.device(\"cuda\" if torch.cuda.is_available() else \"cpu\")\n",
        "env = gym.make('MsPacman-ram-v0').unwrapped\n",
        "#env = gym.make('CartPole-v0').unwrapped\n",
        "#print(env.reset())"
      ],
      "metadata": {
        "id": "EnoA4nzYettK"
      },
      "execution_count": null,
      "outputs": []
    },
    {
      "cell_type": "code",
      "source": [
        "DISPLAY=1"
      ],
      "metadata": {
        "id": "ddKAUmDcetqT"
      },
      "execution_count": null,
      "outputs": []
    },
    {
      "cell_type": "code",
      "source": [
        "BATCH_SIZE = 128\n",
        "GAMMA = 0.9\n",
        "# EPS_START = 0.95\n",
        "# EPS_END = 0.05\n",
        "# EPS_DECAY = 10000\n",
        "TARGET_UPDATE = 10\n",
        "REPLAY_MEMORY_SIZE = 20000\n",
        "LEARNING_RATE = 0.0003\n",
        "FRAME_SKIP_SIZE = 15"
      ],
      "metadata": {
        "id": "QfSW3ynRetns"
      },
      "execution_count": null,
      "outputs": []
    },
    {
      "cell_type": "code",
      "source": [
        "Transition = namedtuple('Transition',\n",
        "                        ('state', 'action', 'next_state', 'reward'))\n",
        "\n",
        "class ReplayMemory(object):\n",
        "\n",
        "    def __init__(self, capacity):\n",
        "        self.memory = deque([],maxlen=capacity)\n",
        "\n",
        "    def push(self, *args):\n",
        "        self.memory.append(Transition(*args))\n",
        "\n",
        "    def sample(self, batch_size):\n",
        "        return random.sample(self.memory, batch_size)\n",
        "\n",
        "    def __len__(self):\n",
        "        return len(self.memory)"
      ],
      "metadata": {
        "id": "T_GHB0-aetlG"
      },
      "execution_count": null,
      "outputs": []
    },
    {
      "cell_type": "code",
      "source": [
        "steps_done = 0\n",
        "def select_action(state):\n",
        "    global steps_done\n",
        "    sample = random.random()\n",
        "    eps_threshold = EPS_END + (EPS_START - EPS_END) * math.exp(-1. * steps_done / EPS_DECAY)\n",
        "    steps_done += 1\n",
        "    if sample > eps_threshold:\n",
        "        with torch.no_grad():\n",
        "            return policy_net(state.to(device)).max(1)[1].view(1, 1)\n",
        "    else:\n",
        "        x = torch.tensor([[random.randrange(n_actions)]], device=device, dtype=torch.long)\n",
        "        return x"
      ],
      "metadata": {
        "id": "rGf-21W7etfn"
      },
      "execution_count": null,
      "outputs": []
    },
    {
      "cell_type": "code",
      "source": [
        "class DQN(nn.Module):\n",
        "\n",
        "    def __init__(self):\n",
        "        super(DQN, self).__init__()\n",
        "        self.conv1(6, 8, 8, 4)\n",
        "        self.conv2(8, 16, 4, 3)\n",
        "        self.conv3(16, 32, 3, 2)\n",
        "        self.fc1 = nn.Linear(32*5*5, 512)\n",
        "        self.fc2 = nn.Linear(512, 128)\n",
        "        self.fc3 = nn.Linear(128, 4)\n",
        "\n",
        "    def forward(self, x):\n",
        "        x = F.relu(self.conv1(x))\n",
        "        x = F.relu(self.conv2(x))\n",
        "        x = F.relu(self.conv3(x))\n",
        "        x = torch.flatten(x, 1)\n",
        "        x = F.relu(self.fc1(x))\n",
        "        x = F.relu(self.fc2(x))\n",
        "        x = self.fc3(x)\n",
        "        return x"
      ],
      "metadata": {
        "id": "NJ-SEBTaeta-"
      },
      "execution_count": null,
      "outputs": []
    },
    {
      "cell_type": "code",
      "source": [
        "def optimize_model():\n",
        "    if len(memory) < BATCH_SIZE:\n",
        "        return\n",
        "    transitions = memory.sample(BATCH_SIZE)\n",
        "\n",
        "    batch = Transition(*zip(*transitions))\n",
        "    non_final_mask = torch.tensor(tuple(map(lambda s: s is not None,\n",
        "                                            batch.next_state)), device=device, dtype=torch.bool)\n",
        "    non_final_next_states = torch.cat([s for s in batch.next_state if s is not None])\n",
        "\n",
        "    state_batch = torch.cat(batch.state).to(device)\n",
        "    action_batch = torch.cat(batch.action)\n",
        "    reward_batch = torch.cat(batch.reward)\n",
        "\n",
        "    state_action_values = policy_net(state_batch).gather(1, action_batch)\n",
        "\n",
        "    next_state_values = torch.zeros(BATCH_SIZE, device=device)\n",
        "    next_state_values[non_final_mask] = target_net(non_final_next_states.to(device)).max(1)[0].detach()\n",
        "\n",
        "    expected_state_action_values = (next_state_values * GAMMA) + reward_batch\n",
        "\n",
        "    criterion = nn.SmoothL1Loss()\n",
        "    loss = criterion(state_action_values, expected_state_action_values.unsqueeze(1))\n",
        "\n",
        "    optimizer.zero_grad()\n",
        "    loss.backward()\n",
        "    for param in policy_net.parameters():\n",
        "        param.grad.data.clamp_(-1, 1)\n",
        "    optimizer.step()"
      ],
      "metadata": {
        "id": "rYqTFpV-etKk"
      },
      "execution_count": null,
      "outputs": []
    },
    {
      "cell_type": "code",
      "source": [
        "n_actions = 4\n",
        "steps_done = 0\n",
        "\n",
        "policy_net = DQN().to(device)\n",
        "policy_net.train()\n",
        "target_net = DQN().to(device)\n",
        "target_net.load_state_dict(policy_net.state_dict())\n",
        "target_net.eval()\n",
        "\n",
        "optimizer = optim.Adam(policy_net.parameters(), lr=LEARNING_RATE)\n",
        "memory = ReplayMemory(REPLAY_MEMORY_SIZE)"
      ],
      "metadata": {
        "id": "8h4TRqWFe5ZI"
      },
      "execution_count": null,
      "outputs": []
    },
    {
      "cell_type": "code",
      "source": [
        "episode_durations = []\n",
        "num_episodes = 2000\n",
        "time_start = time.time()\n",
        "for i_episode in range(num_episodes):\n",
        "    observation = torch.FloatTensor(env.reset())\n",
        "    while observation[10] == 88:\n",
        "        observation, _, _, _ = env.step(0)\n",
        "    observation = torch.FloatTensor([observation])\n",
        "    pre_lives = 3\n",
        "    for t in count():\n",
        "        action = select_action(observation)\n",
        "        for skip in range(FRAME_SKIP_SIZE):\n",
        "            next_observation, reward, done, info = env.step(action.item() + 1)\n",
        "\n",
        "        next_observation, reward, done, info = env.step(action.item() + 1)\n",
        "\n",
        "        next_observation = torch.FloatTensor([next_observation])\n",
        "\n",
        "        if done:\n",
        "            next_observation = None\n",
        "\n",
        "        cur_lives = info['lives']\n",
        "        if cur_lives != pre_lives :\n",
        "            reward -= 100\n",
        "            if cur_lives != 0:\n",
        "                pre_lives = cur_lives\n",
        "                tmp_observation, _, _, _ = env.step(0)\n",
        "                while tmp_observation[10] == 88:\n",
        "                    tmp_observation, _, done, _ = env.step(0)\n",
        "        reward = torch.tensor([reward], device=device)\n",
        "        memory.push(observation, action, next_observation, reward)\n",
        "\n",
        "        observation = next_observation\n",
        "\n",
        "        optimize_model()\n",
        "        if done:\n",
        "            episode_durations.append(t + 1)\n",
        "            break\n",
        "    if i_episode % TARGET_UPDATE == 0:\n",
        "        target_net.load_state_dict(policy_net.state_dict())\n",
        "\n",
        "    time_end = time.time();\n",
        "    if i_episode % 50 == 0:\n",
        "        print(\"ep \", i_episode, \"finished \", time_end - time_start)\n",
        "\n",
        "print('Complete')"
      ],
      "metadata": {
        "id": "To3SGnpPe5Nb"
      },
      "execution_count": null,
      "outputs": []
    },
    {
      "cell_type": "code",
      "source": [
        "# action\n",
        "# 0: none\n",
        "# 1: up\n",
        "# 2: right\n",
        "# 3: left\n",
        "# 4: down\n",
        "# 5: rightup\n",
        "# 6: leftup\n",
        "# 7: rightdown\n",
        "# 8: leftdown\n",
        "# 2500\n",
        "img = plt.imshow(env.render(mode='rgb_array')) # only call this once\n",
        "state = torch.FloatTensor([env.reset()])\n",
        "print(state)\n",
        "pre_lives = 3\n",
        "for _ in count():\n",
        "    if True:\n",
        "        img.set_data(env.render(mode='rgb_array')) # just update the data\n",
        "        display.display(plt.gcf())\n",
        "        display.clear_output(wait=True)\n",
        "    #action = select_action(state)\n",
        "    #print(target_net(state.to(device)))\n",
        "    action = target_net(state.to(device)).max(1)[1].view(1, 1)\n",
        "\n",
        "    state, _, done, _ = env.step(action.item() + 1)\n",
        "\n",
        "    state = torch.FloatTensor([state])\n",
        "    #print(env.action_space)\n",
        "    #observation, reward, done, info = env.step(action)\n",
        "    #print(reward, info)\n",
        "    if done:\n",
        "        break\n",
        "env.close()"
      ],
      "metadata": {
        "id": "5ajbFS53e9WQ"
      },
      "execution_count": null,
      "outputs": []
    },
    {
      "cell_type": "code",
      "source": [
        "\n",
        "state = env.reset()\n",
        "state = torch.FloatTensor([state]).to(device)\n",
        "print(state)\n",
        "res = policy_net(state)\n",
        "print(res)\n",
        "print(policy_net(state).max(1)[1].view(1, 1))"
      ],
      "metadata": {
        "id": "cbFBGtxSe9TK"
      },
      "execution_count": null,
      "outputs": []
    },
    {
      "cell_type": "code",
      "source": [
        "print(episode_durations)"
      ],
      "metadata": {
        "id": "h7jlxx3zfBoS"
      },
      "execution_count": null,
      "outputs": []
    },
    {
      "cell_type": "code",
      "source": [
        "torch.save(target_net, \"./2000\")"
      ],
      "metadata": {
        "id": "JDdVdsrefC--"
      },
      "execution_count": null,
      "outputs": []
    },
    {
      "cell_type": "code",
      "source": [
        "meow = DQN().to(device)"
      ],
      "metadata": {
        "id": "WiSG8v-WfEGm"
      },
      "execution_count": null,
      "outputs": []
    },
    {
      "cell_type": "code",
      "source": [
        "meow.load(\"./1500\")"
      ],
      "metadata": {
        "id": "-G7kyls_fFWy"
      },
      "execution_count": null,
      "outputs": []
    },
    {
      "cell_type": "code",
      "source": [
        "print(steps_done)"
      ],
      "metadata": {
        "id": "3yTuFHYufFTb"
      },
      "execution_count": null,
      "outputs": []
    }
  ]
}